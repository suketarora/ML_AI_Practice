{
 "cells": [
  {
   "cell_type": "code",
   "execution_count": 1,
   "metadata": {},
   "outputs": [],
   "source": [
    "import findspark\n",
    "findspark.init('/opt/spark/spark-2.4.0-bin-hadoop2.7/')\n",
    "from pyspark.sql import SparkSession"
   ]
  },
  {
   "cell_type": "code",
   "execution_count": 2,
   "metadata": {},
   "outputs": [],
   "source": [
    "# spark = SparkSession.builder \\\n",
    "#    .master(\"local\") \\\n",
    "#    .appName(\"Neural Network Model\") \\\n",
    "#    .config(\"spark.executor.memory\", \"6gb\") \\\n",
    "#    .getOrCreate()\n",
    "   \n",
    "sc = spark.sparkContext"
   ]
  },
  {
   "cell_type": "code",
   "execution_count": 3,
   "metadata": {},
   "outputs": [],
   "source": [
    "df = spark.createDataFrame([('Male', 67, 150), # insert column values\n",
    "                            ('Female', 65, 135),\n",
    "                            ('Female', 68, 130),\n",
    "                            ('Male', 70, 160),\n",
    "                            ('Female', 70, 130),\n",
    "                            ('Male', 69, 174),\n",
    "                            ('Female', 65, 126),\n",
    "                            ('Male', 74, 188),\n",
    "                            ('Female', 60, 110),\n",
    "                            ('Female', 63, 125),\n",
    "                            ('Male', 70, 173),\n",
    "                            ('Male', 70, 145),\n",
    "                            ('Male', 68, 175),\n",
    "                            ('Female', 65, 123),\n",
    "                            ('Male', 71, 145),\n",
    "                            ('Male', 74, 160),\n",
    "                            ('Female', 64, 135),\n",
    "                            ('Male', 71, 175),\n",
    "                            ('Male', 67, 145),\n",
    "                            ('Female', 67, 130),\n",
    "                            ('Male', 70, 162),\n",
    "                            ('Female', 64, 107),\n",
    "                            ('Male', 70, 175),\n",
    "                            ('Female', 64, 130),\n",
    "                            ('Male', 66, 163),\n",
    "                            ('Female', 63, 137),\n",
    "                            ('Male', 65, 165),\n",
    "                            ('Female', 65, 130),\n",
    "                            ('Female', 64, 109)], \n",
    "                           ['gender', 'height','weight']) # insert header values\n",
    "\n"
   ]
  },
  {
   "cell_type": "code",
   "execution_count": 4,
   "metadata": {},
   "outputs": [
    {
     "name": "stdout",
     "output_type": "stream",
     "text": [
      "+------+------+------+\n",
      "|gender|height|weight|\n",
      "+------+------+------+\n",
      "|  Male|    67|   150|\n",
      "|Female|    65|   135|\n",
      "|Female|    68|   130|\n",
      "|  Male|    70|   160|\n",
      "|Female|    70|   130|\n",
      "|  Male|    69|   174|\n",
      "|Female|    65|   126|\n",
      "|  Male|    74|   188|\n",
      "|Female|    60|   110|\n",
      "|Female|    63|   125|\n",
      "|  Male|    70|   173|\n",
      "|  Male|    70|   145|\n",
      "|  Male|    68|   175|\n",
      "|Female|    65|   123|\n",
      "|  Male|    71|   145|\n",
      "|  Male|    74|   160|\n",
      "|Female|    64|   135|\n",
      "|  Male|    71|   175|\n",
      "|  Male|    67|   145|\n",
      "|Female|    67|   130|\n",
      "+------+------+------+\n",
      "only showing top 20 rows\n",
      "\n"
     ]
    }
   ],
   "source": [
    "df.show()"
   ]
  },
  {
   "cell_type": "code",
   "execution_count": 5,
   "metadata": {},
   "outputs": [],
   "source": [
    "from pyspark.sql import functions "
   ]
  },
  {
   "cell_type": "code",
   "execution_count": 6,
   "metadata": {},
   "outputs": [],
   "source": [
    "df = df.withColumn('gender',functions.when(df['gender']=='Female',0).otherwise(1))"
   ]
  },
  {
   "cell_type": "code",
   "execution_count": 7,
   "metadata": {},
   "outputs": [],
   "source": [
    "df = df.select('height', 'weight', 'gender')"
   ]
  },
  {
   "cell_type": "code",
   "execution_count": 8,
   "metadata": {},
   "outputs": [
    {
     "name": "stdout",
     "output_type": "stream",
     "text": [
      "+------+------+------+\n",
      "|height|weight|gender|\n",
      "+------+------+------+\n",
      "|    67|   150|     1|\n",
      "|    65|   135|     0|\n",
      "|    68|   130|     0|\n",
      "|    70|   160|     1|\n",
      "|    70|   130|     0|\n",
      "|    69|   174|     1|\n",
      "|    65|   126|     0|\n",
      "|    74|   188|     1|\n",
      "|    60|   110|     0|\n",
      "|    63|   125|     0|\n",
      "|    70|   173|     1|\n",
      "|    70|   145|     1|\n",
      "|    68|   175|     1|\n",
      "|    65|   123|     0|\n",
      "|    71|   145|     1|\n",
      "|    74|   160|     1|\n",
      "|    64|   135|     0|\n",
      "|    71|   175|     1|\n",
      "|    67|   145|     1|\n",
      "|    67|   130|     0|\n",
      "+------+------+------+\n",
      "only showing top 20 rows\n",
      "\n"
     ]
    }
   ],
   "source": [
    "df.show()"
   ]
  },
  {
   "cell_type": "code",
   "execution_count": 9,
   "metadata": {},
   "outputs": [],
   "source": [
    "import numpy as np"
   ]
  },
  {
   "cell_type": "code",
   "execution_count": 10,
   "metadata": {
    "scrolled": false
   },
   "outputs": [
    {
     "data": {
      "text/plain": [
       "[Row(height=67, weight=150, gender=1),\n",
       " Row(height=65, weight=135, gender=0),\n",
       " Row(height=68, weight=130, gender=0),\n",
       " Row(height=70, weight=160, gender=1),\n",
       " Row(height=70, weight=130, gender=0),\n",
       " Row(height=69, weight=174, gender=1),\n",
       " Row(height=65, weight=126, gender=0),\n",
       " Row(height=74, weight=188, gender=1),\n",
       " Row(height=60, weight=110, gender=0),\n",
       " Row(height=63, weight=125, gender=0),\n",
       " Row(height=70, weight=173, gender=1),\n",
       " Row(height=70, weight=145, gender=1),\n",
       " Row(height=68, weight=175, gender=1),\n",
       " Row(height=65, weight=123, gender=0),\n",
       " Row(height=71, weight=145, gender=1),\n",
       " Row(height=74, weight=160, gender=1),\n",
       " Row(height=64, weight=135, gender=0),\n",
       " Row(height=71, weight=175, gender=1),\n",
       " Row(height=67, weight=145, gender=1),\n",
       " Row(height=67, weight=130, gender=0),\n",
       " Row(height=70, weight=162, gender=1),\n",
       " Row(height=64, weight=107, gender=0),\n",
       " Row(height=70, weight=175, gender=1),\n",
       " Row(height=64, weight=130, gender=0),\n",
       " Row(height=66, weight=163, gender=1),\n",
       " Row(height=63, weight=137, gender=0),\n",
       " Row(height=65, weight=165, gender=1),\n",
       " Row(height=65, weight=130, gender=0),\n",
       " Row(height=64, weight=109, gender=0)]"
      ]
     },
     "execution_count": 10,
     "metadata": {},
     "output_type": "execute_result"
    }
   ],
   "source": [
    "df.select(\"height\", \"weight\", \"gender\").collect()"
   ]
  },
  {
   "cell_type": "code",
   "execution_count": 11,
   "metadata": {},
   "outputs": [
    {
     "data": {
      "text/plain": [
       "array([[ 67, 150,   1],\n",
       "       [ 65, 135,   0],\n",
       "       [ 68, 130,   0],\n",
       "       [ 70, 160,   1],\n",
       "       [ 70, 130,   0],\n",
       "       [ 69, 174,   1],\n",
       "       [ 65, 126,   0],\n",
       "       [ 74, 188,   1],\n",
       "       [ 60, 110,   0],\n",
       "       [ 63, 125,   0],\n",
       "       [ 70, 173,   1],\n",
       "       [ 70, 145,   1],\n",
       "       [ 68, 175,   1],\n",
       "       [ 65, 123,   0],\n",
       "       [ 71, 145,   1],\n",
       "       [ 74, 160,   1],\n",
       "       [ 64, 135,   0],\n",
       "       [ 71, 175,   1],\n",
       "       [ 67, 145,   1],\n",
       "       [ 67, 130,   0],\n",
       "       [ 70, 162,   1],\n",
       "       [ 64, 107,   0],\n",
       "       [ 70, 175,   1],\n",
       "       [ 64, 130,   0],\n",
       "       [ 66, 163,   1],\n",
       "       [ 63, 137,   0],\n",
       "       [ 65, 165,   1],\n",
       "       [ 65, 130,   0],\n",
       "       [ 64, 109,   0]])"
      ]
     },
     "execution_count": 11,
     "metadata": {},
     "output_type": "execute_result"
    }
   ],
   "source": [
    "data_array =  np.array(df.select(\"height\", \"weight\", \"gender\").collect())\n",
    "data_array #view the array"
   ]
  },
  {
   "cell_type": "code",
   "execution_count": 12,
   "metadata": {},
   "outputs": [
    {
     "data": {
      "text/plain": [
       "(29, 3)"
      ]
     },
     "execution_count": 12,
     "metadata": {},
     "output_type": "execute_result"
    }
   ],
   "source": [
    "data_array.shape"
   ]
  },
  {
   "cell_type": "code",
   "execution_count": 13,
   "metadata": {},
   "outputs": [
    {
     "data": {
      "text/plain": [
       "array([ 67, 150,   1])"
      ]
     },
     "execution_count": 13,
     "metadata": {},
     "output_type": "execute_result"
    }
   ],
   "source": [
    "data_array[0]"
   ]
  },
  {
   "cell_type": "code",
   "execution_count": 14,
   "metadata": {},
   "outputs": [
    {
     "data": {
      "text/plain": [
       "array([ 64, 109,   0])"
      ]
     },
     "execution_count": 14,
     "metadata": {},
     "output_type": "execute_result"
    }
   ],
   "source": [
    "data_array[28]"
   ]
  },
  {
   "cell_type": "code",
   "execution_count": 15,
   "metadata": {},
   "outputs": [
    {
     "name": "stdout",
     "output_type": "stream",
     "text": [
      "[ 74 188   1]\n",
      "[ 60 107   0]\n"
     ]
    }
   ],
   "source": [
    "print(data_array.max(axis=0))\n",
    "print(data_array.min(axis=0))"
   ]
  },
  {
   "cell_type": "code",
   "execution_count": 16,
   "metadata": {},
   "outputs": [],
   "source": [
    "import matplotlib.pyplot as plt\n",
    "%matplotlib inline"
   ]
  },
  {
   "cell_type": "code",
   "execution_count": 17,
   "metadata": {},
   "outputs": [
    {
     "name": "stdout",
     "output_type": "stream",
     "text": [
      "(50, 84, 97, 198)\n"
     ]
    }
   ],
   "source": [
    "min_x = data_array.min(axis=0)[0]-10\n",
    "max_x = data_array.max(axis=0)[0]+10\n",
    "min_y = data_array.min(axis=0)[1]-10\n",
    "max_y = data_array.max(axis=0)[1]+10\n",
    "\n",
    "print(min_x, max_x, min_y, max_y)"
   ]
  },
  {
   "cell_type": "code",
   "execution_count": 18,
   "metadata": {
    "scrolled": true
   },
   "outputs": [
    {
     "data": {
      "text/plain": [
       "<matplotlib.legend.Legend at 0x7f1e5d9b7990>"
      ]
     },
     "execution_count": 18,
     "metadata": {},
     "output_type": "execute_result"
    },
    {
     "data": {
      "image/png": "[encoded data removed]",
      "text/plain": [
       "<Figure size 675x300 with 1 Axes>"
      ]
     },
     "metadata": {
      "needs_background": "light"
     },
     "output_type": "display_data"
    }
   ],
   "source": [
    "# formatting the plot grid, scales, and figure size\n",
    "plt.figure(figsize=(9, 4), dpi= 75)\n",
    "plt.axis([min_x,max_x,min_y,max_y])\n",
    "plt.grid()\n",
    "for i in range(len(data_array)):\n",
    "    value = data_array[i]\n",
    "    # assign labels values to specific matrix elements\n",
    "    gender = value[2]\n",
    "    height = value[0]\n",
    "    weight = value[1]\n",
    "    \n",
    "    # filter data points by gender\n",
    "    a = plt.scatter(height[gender==0],weight[gender==0], marker = 'x', c= 'r', label = 'Female')\n",
    "    b = plt.scatter(height[gender==1],weight[gender==1], marker = 'o', c= 'b', label = 'Male')\n",
    "    \n",
    "# plot values, title, legend, x and y axis\n",
    "plt.title('Weight vs Height by Gender')\n",
    "plt.xlabel('Height (in)')\n",
    "plt.ylabel('Weight (lbs)')\n",
    "plt.legend(handles=[a,b])\n"
   ]
  },
  {
   "cell_type": "code",
   "execution_count": 19,
   "metadata": {},
   "outputs": [],
   "source": [
    "np.random.seed(12345)"
   ]
  },
  {
   "cell_type": "code",
   "execution_count": 20,
   "metadata": {},
   "outputs": [],
   "source": [
    "w1 = np.random.randn()\n",
    "w2 = np.random.randn()\n",
    "b= np.random.randn()"
   ]
  },
  {
   "cell_type": "code",
   "execution_count": 21,
   "metadata": {
    "scrolled": true
   },
   "outputs": [
    {
     "name": "stdout",
     "output_type": "stream",
     "text": [
      "(-0.20470765948471295, 0.47894333805754824, -0.5194387150567381)\n"
     ]
    }
   ],
   "source": [
    "print(w1, w2, b)"
   ]
  },
  {
   "cell_type": "code",
   "execution_count": 22,
   "metadata": {},
   "outputs": [
    {
     "name": "stdout",
     "output_type": "stream",
     "text": [
      "(array([[ 67, 150],\n",
      "       [ 65, 135],\n",
      "       [ 68, 130],\n",
      "       [ 70, 160],\n",
      "       [ 70, 130],\n",
      "       [ 69, 174],\n",
      "       [ 65, 126],\n",
      "       [ 74, 188],\n",
      "       [ 60, 110],\n",
      "       [ 63, 125],\n",
      "       [ 70, 173],\n",
      "       [ 70, 145],\n",
      "       [ 68, 175],\n",
      "       [ 65, 123],\n",
      "       [ 71, 145],\n",
      "       [ 74, 160],\n",
      "       [ 64, 135],\n",
      "       [ 71, 175],\n",
      "       [ 67, 145],\n",
      "       [ 67, 130],\n",
      "       [ 70, 162],\n",
      "       [ 64, 107],\n",
      "       [ 70, 175],\n",
      "       [ 64, 130],\n",
      "       [ 66, 163],\n",
      "       [ 63, 137],\n",
      "       [ 65, 165],\n",
      "       [ 65, 130],\n",
      "       [ 64, 109]]), array([1, 0, 0, 1, 0, 1, 0, 1, 0, 0, 1, 1, 1, 0, 1, 1, 0, 1, 1, 0, 1, 0,\n",
      "       1, 0, 1, 0, 1, 0, 0]))\n"
     ]
    }
   ],
   "source": [
    "X = data_array[:,:2]\n",
    "y = data_array[:,2]\n",
    "print(X,y)"
   ]
  },
  {
   "cell_type": "code",
   "execution_count": 23,
   "metadata": {},
   "outputs": [
    {
     "name": "stdout",
     "output_type": "stream",
     "text": [
      "(array([ 67.20689655, 145.24137931]), array([ 3.35671545, 22.1743175 ]))\n"
     ]
    }
   ],
   "source": [
    "x_mean = X.mean(axis=0)\n",
    "x_std = X.std(axis=0)\n",
    "print(x_mean, x_std)"
   ]
  },
  {
   "cell_type": "code",
   "execution_count": 24,
   "metadata": {},
   "outputs": [],
   "source": [
    "def normalize(X):\n",
    "    x_mean = X.mean(axis=0)\n",
    "    x_std = X.std(axis=0)\n",
    "    X = (X - X.mean(axis=0))/X.std(axis=0)\n",
    "    return X"
   ]
  },
  {
   "cell_type": "code",
   "execution_count": 25,
   "metadata": {
    "scrolled": true
   },
   "outputs": [
    {
     "name": "stdout",
     "output_type": "stream",
     "text": [
      "[[-0.06163661  0.21460055]\n",
      " [-0.65745714 -0.4618577 ]\n",
      " [ 0.23627366 -0.68734378]\n",
      " [ 0.8320942   0.66557271]\n",
      " [ 0.8320942  -0.68734378]\n",
      " [ 0.53418393  1.29693375]\n",
      " [-0.65745714 -0.86773265]\n",
      " [ 2.02373527  1.92829478]\n",
      " [-2.14700848 -1.58928812]\n",
      " [-1.25327768 -0.91282987]\n",
      " [ 0.8320942   1.25183653]\n",
      " [ 0.8320942  -0.01088554]\n",
      " [ 0.23627366  1.34203096]\n",
      " [-0.65745714 -1.0030243 ]\n",
      " [ 1.13000446 -0.01088554]\n",
      " [ 2.02373527  0.66557271]\n",
      " [-0.95536741 -0.4618577 ]\n",
      " [ 1.13000446  1.34203096]\n",
      " [-0.06163661 -0.01088554]\n",
      " [-0.06163661 -0.68734378]\n",
      " [ 0.8320942   0.75576715]\n",
      " [-0.95536741 -1.72457977]\n",
      " [ 0.8320942   1.34203096]\n",
      " [-0.95536741 -0.68734378]\n",
      " [-0.35954687  0.80086436]\n",
      " [-1.25327768 -0.37166327]\n",
      " [-0.65745714  0.8910588 ]\n",
      " [-0.65745714 -0.68734378]\n",
      " [-0.95536741 -1.63438533]]\n"
     ]
    }
   ],
   "source": [
    "X = normalize(X)\n",
    "print(X)"
   ]
  },
  {
   "cell_type": "code",
   "execution_count": 26,
   "metadata": {
    "scrolled": false
   },
   "outputs": [
    {
     "name": "stdout",
     "output_type": "stream",
     "text": [
      "standard deviation\n",
      "1.0\n",
      "mean\n",
      "-0.0\n",
      "[1 0 0 1 0 1 0 1 0 0 1 1 1 0 1 1 0 1 1 0 1 0 1 0 1 0 1 0 0]\n"
     ]
    }
   ],
   "source": [
    "print('standard deviation')\n",
    "print(round(X[:,0].std(axis=0),0))\n",
    "print('mean')\n",
    "print(round(X[:,0].mean(axis=0),0))\n",
    "print(y)"
   ]
  },
  {
   "cell_type": "code",
   "execution_count": 27,
   "metadata": {
    "scrolled": true
   },
   "outputs": [
    {
     "name": "stdout",
     "output_type": "stream",
     "text": [
      "[[-0.06163661  0.21460055  1.        ]\n",
      " [-0.65745714 -0.4618577   0.        ]\n",
      " [ 0.23627366 -0.68734378  0.        ]\n",
      " [ 0.8320942   0.66557271  1.        ]\n",
      " [ 0.8320942  -0.68734378  0.        ]\n",
      " [ 0.53418393  1.29693375  1.        ]\n",
      " [-0.65745714 -0.86773265  0.        ]\n",
      " [ 2.02373527  1.92829478  1.        ]\n",
      " [-2.14700848 -1.58928812  0.        ]\n",
      " [-1.25327768 -0.91282987  0.        ]\n",
      " [ 0.8320942   1.25183653  1.        ]\n",
      " [ 0.8320942  -0.01088554  1.        ]\n",
      " [ 0.23627366  1.34203096  1.        ]\n",
      " [-0.65745714 -1.0030243   0.        ]\n",
      " [ 1.13000446 -0.01088554  1.        ]\n",
      " [ 2.02373527  0.66557271  1.        ]\n",
      " [-0.95536741 -0.4618577   0.        ]\n",
      " [ 1.13000446  1.34203096  1.        ]\n",
      " [-0.06163661 -0.01088554  1.        ]\n",
      " [-0.06163661 -0.68734378  0.        ]\n",
      " [ 0.8320942   0.75576715  1.        ]\n",
      " [-0.95536741 -1.72457977  0.        ]\n",
      " [ 0.8320942   1.34203096  1.        ]\n",
      " [-0.95536741 -0.68734378  0.        ]\n",
      " [-0.35954687  0.80086436  1.        ]\n",
      " [-1.25327768 -0.37166327  0.        ]\n",
      " [-0.65745714  0.8910588   1.        ]\n",
      " [-0.65745714 -0.68734378  0.        ]\n",
      " [-0.95536741 -1.63438533  0.        ]]\n"
     ]
    }
   ],
   "source": [
    "data_array = np.column_stack((X[:,0], X[:,1],y))\n",
    "print(data_array)"
   ]
  },
  {
   "cell_type": "code",
   "execution_count": 28,
   "metadata": {},
   "outputs": [
    {
     "data": {
      "image/png": "[encoded data removed]",
      "text/plain": [
       "<Figure size 675x300 with 1 Axes>"
      ]
     },
     "metadata": {
      "needs_background": "light"
     },
     "output_type": "display_data"
    }
   ],
   "source": [
    "# formatting the plot grid, scales, and figure size\n",
    "plt.figure(figsize=(9, 4), dpi= 75)\n",
    "# plt.axis([min_x,max_x,min_y,max_y])\n",
    "plt.grid()\n",
    "plt.title('Weight vs Height by Gender (normalized)')\n",
    "plt.xlabel('Height (in)')\n",
    "plt.ylabel('Weight (lbs)')\n",
    "\n",
    "\n",
    "for i in range(len(data_array)):\n",
    "    value_n = data_array[i]\n",
    "    # assign labels values to specific matrix elements\n",
    "    gender_n = value_n[2]\n",
    "    height_n = value_n[0]\n",
    "    weight_n = value_n[1]\n",
    "    an = plt.scatter(height_n[gender_n==0.0],weight_n[gender_n==0.0], marker = 'x', c= 'r', label = 'Female')\n",
    "    bn = plt.scatter(height_n[gender_n==1.0],weight_n[gender_n==1.0], marker = 'o', c= 'b', label = 'Male')\n",
    "    # plot values, title, legend, x and y axis\n",
    "\n",
    "    plt.legend(handles=[an,bn])\n"
   ]
  },
  {
   "cell_type": "code",
   "execution_count": 29,
   "metadata": {},
   "outputs": [],
   "source": [
    "def sigmoid(input):\n",
    "    return 1/(1+np.exp(-input))"
   ]
  },
  {
   "cell_type": "code",
   "execution_count": 30,
   "metadata": {},
   "outputs": [
    {
     "name": "stdout",
     "output_type": "stream",
     "text": [
      "(array([-10,  -9,  -8,  -7,  -6,  -5,  -4,  -3,  -2,  -1,   0,   1,   2,\n",
      "         3,   4,   5,   6,   7,   8,   9]), array([4.53978687e-05, 1.23394576e-04, 3.35350130e-04, 9.11051194e-04,\n",
      "       2.47262316e-03, 6.69285092e-03, 1.79862100e-02, 4.74258732e-02,\n",
      "       1.19202922e-01, 2.68941421e-01, 5.00000000e-01, 7.31058579e-01,\n",
      "       8.80797078e-01, 9.52574127e-01, 9.82013790e-01, 9.93307149e-01,\n",
      "       9.97527377e-01, 9.99088949e-01, 9.99664650e-01, 9.99876605e-01]))\n"
     ]
    }
   ],
   "source": [
    "X = np.arange(-10,10,1)\n",
    "Y = sigmoid(X)\n",
    "print(X,Y)"
   ]
  },
  {
   "cell_type": "code",
   "execution_count": 31,
   "metadata": {},
   "outputs": [
    {
     "data": {
      "image/png": "[encoded data removed]",
      "text/plain": [
       "<Figure size 600x400 with 1 Axes>"
      ]
     },
     "metadata": {
      "needs_background": "light"
     },
     "output_type": "display_data"
    }
   ],
   "source": [
    "plt.figure(figsize=(6, 4), dpi= 100)\n",
    "plt.axis([-10,10,-0.25,1.2])\n",
    "plt.grid()\n",
    "plt.plot(X,Y)\n",
    "plt.title('Sigmoid Function')\n",
    "plt.show()"
   ]
  },
  {
   "cell_type": "code",
   "execution_count": 32,
   "metadata": {},
   "outputs": [],
   "source": [
    "def sigmoid_derivative(x):\n",
    "    return sigmoid(x) * (1-sigmoid(x))"
   ]
  },
  {
   "cell_type": "code",
   "execution_count": 33,
   "metadata": {},
   "outputs": [
    {
     "data": {
      "image/png": "[encoded data removed]",
      "text/plain": [
       "<Figure size 450x300 with 1 Axes>"
      ]
     },
     "metadata": {
      "needs_background": "light"
     },
     "output_type": "display_data"
    }
   ],
   "source": [
    "plt.figure(figsize=(6, 4), dpi= 75)\n",
    "plt.axis([-10,10,-0.25,1.2])\n",
    "plt.grid()\n",
    "X = np.arange(-10,10,1)\n",
    "Y = sigmoid(X)\n",
    "Y_Prime = sigmoid_derivative(X)\n",
    "plt.plot(X, Y, label=\"Sigmoid\",c='b')\n",
    "plt.plot(X, Y_Prime, marker=\".\", label=\"Sigmoid Derivative\", c='r')\n",
    "plt.title('Sigmoid vs Sigmoid Derivative')\n",
    "plt.xlabel('X')\n",
    "plt.ylabel('Y')\n",
    "plt.legend()\n",
    "plt.show()"
   ]
  },
  {
   "cell_type": "code",
   "execution_count": 34,
   "metadata": {},
   "outputs": [
    {
     "data": {
      "text/plain": [
       "(29, 3)"
      ]
     },
     "execution_count": 34,
     "metadata": {},
     "output_type": "execute_result"
    }
   ],
   "source": [
    "data_array.shape"
   ]
  },
  {
   "cell_type": "code",
   "execution_count": 35,
   "metadata": {
    "scrolled": true
   },
   "outputs": [
    {
     "name": "stdout",
     "output_type": "stream",
     "text": [
      "(0, array([0.53418393, 1.29693375, 1.        ]))\n",
      "(1, array([ 0.23627366, -0.68734378,  0.        ]))\n",
      "(2, array([-0.65745714, -0.4618577 ,  0.        ]))\n",
      "(3, array([0.8320942 , 1.34203096, 1.        ]))\n",
      "(4, array([1.13000446, 1.34203096, 1.        ]))\n",
      "(5, array([-0.65745714, -0.68734378,  0.        ]))\n",
      "(6, array([ 1.13000446, -0.01088554,  1.        ]))\n",
      "(7, array([-1.25327768, -0.91282987,  0.        ]))\n",
      "(8, array([-0.65745714, -0.68734378,  0.        ]))\n",
      "(9, array([-0.95536741, -0.68734378,  0.        ]))\n",
      "(10, array([0.8320942 , 1.34203096, 1.        ]))\n",
      "(11, array([-0.95536741, -0.4618577 ,  0.        ]))\n",
      "(12, array([-0.06163661, -0.01088554,  1.        ]))\n",
      "(13, array([-1.25327768, -0.91282987,  0.        ]))\n",
      "(14, array([ 0.8320942 , -0.01088554,  1.        ]))\n",
      "(15, array([-0.65745714, -1.0030243 ,  0.        ]))\n",
      "(16, array([0.8320942 , 1.25183653, 1.        ]))\n",
      "(17, array([1.13000446, 1.34203096, 1.        ]))\n",
      "(18, array([-0.06163661, -0.01088554,  1.        ]))\n",
      "(19, array([-0.65745714, -0.86773265,  0.        ]))\n",
      "(20, array([2.02373527, 1.92829478, 1.        ]))\n",
      "(21, array([ 0.8320942 , -0.01088554,  1.        ]))\n",
      "(22, array([2.02373527, 1.92829478, 1.        ]))\n",
      "(23, array([-0.95536741, -0.68734378,  0.        ]))\n",
      "(24, array([-0.35954687,  0.80086436,  1.        ]))\n",
      "(25, array([-0.95536741, -0.68734378,  0.        ]))\n",
      "(26, array([-0.65745714, -0.4618577 ,  0.        ]))\n",
      "(27, array([-0.65745714, -0.68734378,  0.        ]))\n",
      "(28, array([-0.95536741, -0.68734378,  0.        ]))\n",
      "(29, array([ 0.8320942 , -0.68734378,  0.        ]))\n",
      "(30, array([-0.06163661,  0.21460055,  1.        ]))\n",
      "(31, array([2.02373527, 0.66557271, 1.        ]))\n",
      "(32, array([0.8320942 , 0.66557271, 1.        ]))\n",
      "(33, array([-0.95536741, -1.63438533,  0.        ]))\n",
      "(34, array([-0.95536741, -1.63438533,  0.        ]))\n",
      "(35, array([0.53418393, 1.29693375, 1.        ]))\n",
      "(36, array([2.02373527, 0.66557271, 1.        ]))\n",
      "(37, array([-0.95536741, -0.68734378,  0.        ]))\n",
      "(38, array([ 0.8320942 , -0.01088554,  1.        ]))\n",
      "(39, array([ 1.13000446, -0.01088554,  1.        ]))\n",
      "(40, array([-0.06163661, -0.68734378,  0.        ]))\n",
      "(41, array([1.13000446, 1.34203096, 1.        ]))\n",
      "(42, array([ 0.8320942 , -0.01088554,  1.        ]))\n",
      "(43, array([0.53418393, 1.29693375, 1.        ]))\n",
      "(44, array([ 0.23627366, -0.68734378,  0.        ]))\n",
      "(45, array([-0.95536741, -1.72457977,  0.        ]))\n",
      "(46, array([-0.06163661, -0.68734378,  0.        ]))\n",
      "(47, array([-2.14700848, -1.58928812,  0.        ]))\n",
      "(48, array([0.53418393, 1.29693375, 1.        ]))\n",
      "(49, array([ 0.23627366, -0.68734378,  0.        ]))\n",
      "(50, array([0.23627366, 1.34203096, 1.        ]))\n",
      "(51, array([0.53418393, 1.29693375, 1.        ]))\n",
      "(52, array([-0.65745714, -0.68734378,  0.        ]))\n",
      "(53, array([-0.06163661, -0.68734378,  0.        ]))\n",
      "(54, array([0.23627366, 1.34203096, 1.        ]))\n",
      "(55, array([ 1.13000446, -0.01088554,  1.        ]))\n",
      "(56, array([-0.65745714, -0.68734378,  0.        ]))\n",
      "(57, array([-0.95536741, -0.4618577 ,  0.        ]))\n",
      "(58, array([-0.65745714, -0.68734378,  0.        ]))\n",
      "(59, array([-0.65745714, -0.86773265,  0.        ]))\n",
      "(60, array([-0.35954687,  0.80086436,  1.        ]))\n",
      "(61, array([-0.06163661,  0.21460055,  1.        ]))\n",
      "(62, array([ 0.8320942 , -0.01088554,  1.        ]))\n",
      "(63, array([0.53418393, 1.29693375, 1.        ]))\n",
      "(64, array([0.8320942 , 1.25183653, 1.        ]))\n",
      "(65, array([0.23627366, 1.34203096, 1.        ]))\n",
      "(66, array([0.8320942 , 1.34203096, 1.        ]))\n",
      "(67, array([0.23627366, 1.34203096, 1.        ]))\n",
      "(68, array([-0.35954687,  0.80086436,  1.        ]))\n",
      "(69, array([-1.25327768, -0.91282987,  0.        ]))\n",
      "(70, array([-0.06163661, -0.01088554,  1.        ]))\n",
      "(71, array([-0.06163661, -0.01088554,  1.        ]))\n",
      "(72, array([-0.06163661, -0.01088554,  1.        ]))\n",
      "(73, array([-1.25327768, -0.37166327,  0.        ]))\n",
      "(74, array([ 1.13000446, -0.01088554,  1.        ]))\n",
      "(75, array([-0.65745714,  0.8910588 ,  1.        ]))\n",
      "(76, array([-0.95536741, -0.68734378,  0.        ]))\n",
      "(77, array([-0.95536741, -1.72457977,  0.        ]))\n",
      "(78, array([2.02373527, 1.92829478, 1.        ]))\n",
      "(79, array([1.13000446, 1.34203096, 1.        ]))\n",
      "(80, array([-0.65745714, -0.68734378,  0.        ]))\n",
      "(81, array([-0.06163661,  0.21460055,  1.        ]))\n",
      "(82, array([-0.65745714,  0.8910588 ,  1.        ]))\n",
      "(83, array([0.23627366, 1.34203096, 1.        ]))\n",
      "(84, array([-1.25327768, -0.37166327,  0.        ]))\n",
      "(85, array([ 1.13000446, -0.01088554,  1.        ]))\n",
      "(86, array([-0.65745714,  0.8910588 ,  1.        ]))\n",
      "(87, array([ 0.8320942 , -0.01088554,  1.        ]))\n",
      "(88, array([0.8320942 , 0.66557271, 1.        ]))\n",
      "(89, array([-0.06163661,  0.21460055,  1.        ]))\n",
      "(90, array([0.8320942 , 0.66557271, 1.        ]))\n",
      "(91, array([-0.06163661,  0.21460055,  1.        ]))\n",
      "(92, array([-0.65745714, -0.86773265,  0.        ]))\n",
      "(93, array([ 0.23627366, -0.68734378,  0.        ]))\n",
      "(94, array([1.13000446, 1.34203096, 1.        ]))\n",
      "(95, array([-0.65745714, -0.68734378,  0.        ]))\n",
      "(96, array([-0.95536741, -1.63438533,  0.        ]))\n",
      "(97, array([0.23627366, 1.34203096, 1.        ]))\n",
      "(98, array([0.53418393, 1.29693375, 1.        ]))\n",
      "(99, array([-2.14700848, -1.58928812,  0.        ]))\n"
     ]
    }
   ],
   "source": [
    "for i in range(100):\n",
    "    random_index = np.random.randint(len(data_array))\n",
    "    point = data_array[random_index]\n",
    "    print(i, point)"
   ]
  },
  {
   "cell_type": "code",
   "execution_count": 36,
   "metadata": {
    "scrolled": false
   },
   "outputs": [],
   "source": [
    "learning_rate = 0.1\n",
    "\n",
    "all_costs = []\n",
    "\n",
    "for i in range(100000):\n",
    "    # set the random data points that will be used to calculate the summation\n",
    "    random_number = np.random.randint(len(data_array))\n",
    "    random_person = data_array[random_number]\n",
    "    \n",
    "    # the height and weight from the random individual are selected\n",
    "    height = random_person[0]\n",
    "    weight = random_person[1]\n",
    "\n",
    "    z = w1*height+w2*weight+b\n",
    "    predictedGender = sigmoid(z)\n",
    "    \n",
    "    actualGender = random_person[2]\n",
    "    \n",
    "    cost = (predictedGender-actualGender)**2\n",
    "    \n",
    "    # the cost value is appended to the list\n",
    "    all_costs.append(cost)\n",
    "    \n",
    "    # partial derivatives of the cost function and summation are calculated\n",
    "    # cost = x^2  and dcost_predictedGender = 2*x\n",
    "    dcost_predictedGender = 2 * (predictedGender-actualGender)   \n",
    "    \n",
    "    dpredictedGenger_dz = sigmoid_derivative(z)\n",
    "    dz_dw1 = height\n",
    "    dz_dw2 = weight\n",
    "    dz_db = 1\n",
    "    \n",
    "    dcost_dw1 = dcost_predictedGender * dpredictedGenger_dz * dz_dw1\n",
    "    dcost_dw2 = dcost_predictedGender * dpredictedGenger_dz * dz_dw2\n",
    "    dcost_db  = dcost_predictedGender * dpredictedGenger_dz * dz_db\n",
    "    \n",
    "    # gradient descent calculation\n",
    "    w1 = w1 - learning_rate * dcost_dw1\n",
    "    w2 = w2 - learning_rate * dcost_dw2\n",
    "    b  = b  - learning_rate * dcost_db"
   ]
  },
  {
   "cell_type": "code",
   "execution_count": 37,
   "metadata": {},
   "outputs": [
    {
     "data": {
      "image/png": "[encoded data removed]",
      "text/plain": [
       "<Figure size 432x288 with 1 Axes>"
      ]
     },
     "metadata": {
      "needs_background": "light"
     },
     "output_type": "display_data"
    }
   ],
   "source": [
    "plt.plot(all_costs)\n",
    "plt.title('Cost Value over 100,000 iterations')\n",
    "plt.xlabel('Iteration')\n",
    "plt.ylabel('Cost Value')\n",
    "plt.show()"
   ]
  },
  {
   "cell_type": "code",
   "execution_count": 38,
   "metadata": {},
   "outputs": [
    {
     "name": "stdout",
     "output_type": "stream",
     "text": [
      "The final values of w1, w2, and b\n",
      "---------------------------------\n",
      "w1 = 1.82092124815\n",
      "w2 = 10.5014126865\n",
      "b  = 2.69222069029\n"
     ]
    }
   ],
   "source": [
    "print('The final values of w1, w2, and b')\n",
    "print('---------------------------------')\n",
    "print('w1 = {}'.format(w1))\n",
    "print('w2 = {}'.format(w2))\n",
    "print('b  = {}'.format(b))"
   ]
  },
  {
   "cell_type": "code",
   "execution_count": 39,
   "metadata": {
    "scrolled": true
   },
   "outputs": [
    {
     "name": "stdout",
     "output_type": "stream",
     "text": [
      "Individual #1 actual score: 1.0 predicted score: 0.992104960055\n",
      "Individual #2 actual score: 0.0 predicted score: 0.0337280554204\n",
      "Individual #3 actual score: 0.0 predicted score: 0.0163728197008\n",
      "Individual #4 actual score: 1.0 predicted score: 0.999986282884\n",
      "Individual #5 actual score: 0.0 predicted score: 0.0469456203497\n",
      "Individual #6 actual score: 1.0 predicted score: 0.999999968854\n",
      "Individual #7 actual score: 0.0 predicted score: 0.000491589091645\n",
      "Individual #8 actual score: 1.0 predicted score: 0.999999999997\n",
      "Individual #9 actual score: 0.0 predicted score: 1.6712931345e-08\n",
      "Individual #10 actual score: 0.0 predicted score: 0.000103493068907\n",
      "Individual #11 actual score: 1.0 predicted score: 0.999999970927\n",
      "Individual #12 actual score: 1.0 predicted score: 0.983586238118\n",
      "Individual #13 actual score: 1.0 predicted score: 0.999999966632\n",
      "Individual #14 actual score: 0.0 predicted score: 0.000118778767193\n",
      "Individual #15 actual score: 1.0 predicted score: 0.990392490938\n",
      "Individual #16 actual score: 1.0 predicted score: 0.999998433613\n",
      "Individual #17 actual score: 0.0 predicted score: 0.0198872956478\n",
      "Individual #18 actual score: 1.0 predicted score: 0.999999993445\n",
      "Individual #19 actual score: 1.0 predicted score: 0.92169997105\n",
      "Individual #20 actual score: 0.0 predicted score: 0.0095833788542\n",
      "Individual #21 actual score: 1.0 predicted score: 0.999994679944\n",
      "Individual #22 actual score: 0.0 predicted score: 3.53505457706e-08\n",
      "Individual #23 actual score: 1.0 predicted score: 0.999999988724\n",
      "Individual #24 actual score: 0.0 predicted score: 0.00189713996736\n",
      "Individual #25 actual score: 1.0 predicted score: 0.99997098653\n",
      "Individual #26 actual score: 0.0 predicted score: 0.0295152496483\n",
      "Individual #27 actual score: 1.0 predicted score: 0.999980642653\n",
      "Individual #28 actual score: 0.0 predicted score: 0.00325910664036\n",
      "Individual #29 actual score: 0.0 predicted score: 9.11478343019e-08\n"
     ]
    }
   ],
   "source": [
    "for i in range(len(data_array)):\n",
    "    random_individual = data_array[i]\n",
    "    height = random_individual[0]\n",
    "    weight = random_individual[1]\n",
    "    z = height*w1 + weight*w2 + b\n",
    "    predictedGender=sigmoid(z)\n",
    "    print(\"Individual #{} actual score: {} predicted score: {}\"\n",
    "          .format(i+1,random_individual[2],predictedGender))"
   ]
  },
  {
   "cell_type": "code",
   "execution_count": 40,
   "metadata": {},
   "outputs": [],
   "source": [
    "def input_normalize(height, weight):\n",
    "    inputHeight = (height - x_mean[0])/x_std[0]\n",
    "    inputWeight = (weight - x_mean[1])/x_std[1]\n",
    "    return inputHeight, inputWeight"
   ]
  },
  {
   "cell_type": "code",
   "execution_count": 41,
   "metadata": {},
   "outputs": [
    {
     "name": "stdout",
     "output_type": "stream",
     "text": [
      "(0.8320941962133162, 1.5675170469238868)\n"
     ]
    }
   ],
   "source": [
    "score = input_normalize(70, 180)\n",
    "print(score)"
   ]
  },
  {
   "cell_type": "code",
   "execution_count": 42,
   "metadata": {},
   "outputs": [],
   "source": [
    "def predict_gender(raw_score):\n",
    "    gender_summation = raw_score[0]*w1 + raw_score[1]*w2 + b\n",
    "    gender_score = sigmoid(gender_summation)\n",
    "    if gender_score <= 0.5:\n",
    "        gender = 'Female'\n",
    "    else:\n",
    "        gender = 'Male'\n",
    "    return gender, gender_score"
   ]
  },
  {
   "cell_type": "code",
   "execution_count": 43,
   "metadata": {},
   "outputs": [
    {
     "data": {
      "text/plain": [
       "('Male', 0.9999999989437511)"
      ]
     },
     "execution_count": 43,
     "metadata": {},
     "output_type": "execute_result"
    }
   ],
   "source": [
    "predict_gender(score)"
   ]
  },
  {
   "cell_type": "code",
   "execution_count": 44,
   "metadata": {},
   "outputs": [],
   "source": [
    "score = input_normalize(50,120)"
   ]
  },
  {
   "cell_type": "code",
   "execution_count": 45,
   "metadata": {},
   "outputs": [
    {
     "data": {
      "text/plain": [
       "('Female', 8.392313454170623e-09)"
      ]
     },
     "execution_count": 45,
     "metadata": {},
     "output_type": "execute_result"
    }
   ],
   "source": [
    "predict_gender(score)"
   ]
  },
  {
   "cell_type": "code",
   "execution_count": 46,
   "metadata": {},
   "outputs": [
    {
     "name": "stdout",
     "output_type": "stream",
     "text": [
      "(-2.24700848158745, 2.1237352673336227, -1.8245797669033634, 2.028294779946051)\n"
     ]
    }
   ],
   "source": [
    "x_min = min(data_array[:,0])-0.1\n",
    "x_max = max(data_array[:,0])+0.1\n",
    "y_min = min(data_array[:,1])-0.1\n",
    "y_max = max(data_array[:,1])+0.1\n",
    "increment= 0.05\n",
    "print(x_min, x_max, y_min, y_max)"
   ]
  },
  {
   "cell_type": "code",
   "execution_count": 47,
   "metadata": {
    "scrolled": true
   },
   "outputs": [],
   "source": [
    "x_data= np.arange(x_min, x_max, increment)"
   ]
  },
  {
   "cell_type": "code",
   "execution_count": 48,
   "metadata": {
    "scrolled": true
   },
   "outputs": [],
   "source": [
    "y_data= np.arange(y_min, y_max, increment)"
   ]
  },
  {
   "cell_type": "code",
   "execution_count": 49,
   "metadata": {},
   "outputs": [],
   "source": [
    "xy_data = [[x_all, y_all] for x_all in x_data for y_all in y_data]"
   ]
  },
  {
   "cell_type": "code",
   "execution_count": 50,
   "metadata": {},
   "outputs": [
    {
     "data": {
      "image/png": "[encoded data removed]",
      "text/plain": [
       "<Figure size 432x288 with 1 Axes>"
      ]
     },
     "metadata": {
      "needs_background": "light"
     },
     "output_type": "display_data"
    }
   ],
   "source": [
    "for i in range(len(xy_data)):\n",
    "    data = (xy_data[i])\n",
    "    height = data[0]\n",
    "    weight = data[1]  \n",
    "    z_new = height*w1 + weight*w2 + b\n",
    "    predictedGender_new=sigmoid(z_new)\n",
    "#     print(height, weight, predictedGender_new)\n",
    "    ax = plt.scatter(height[predictedGender_new<=0.5],\n",
    "                     weight[predictedGender_new<=0.5], \n",
    "                     marker = 'o', c= 'r', label = 'Female')\n",
    "    bx = plt.scatter(height[predictedGender_new > 0.5],\n",
    "                     weight[predictedGender_new>0.5], \n",
    "                     marker = 'o', c= 'b', label = 'Male')    \n",
    "    # plot values, title, legend, x and y axis\n",
    "    plt.title('Weight vs Height by Gender')\n",
    "    plt.xlabel('Height (in)')\n",
    "    plt.ylabel('Weight (lbs)')\n",
    "    plt.legend(handles=[ax,bx])"
   ]
  },
  {
   "cell_type": "code",
   "execution_count": null,
   "metadata": {},
   "outputs": [],
   "source": []
  }
 ],
 "metadata": {
  "kernelspec": {
   "display_name": "Python 3",
   "language": "python",
   "name": "python3"
  },
  "language_info": {
   "codemirror_mode": {
    "name": "ipython",
    "version": 2
   },
   "file_extension": ".py",
   "mimetype": "text/x-python",
   "name": "python",
   "nbconvert_exporter": "python",
   "pygments_lexer": "ipython2",
   "version": "2.7.15"
  }
 },
 "nbformat": 4,
 "nbformat_minor": 2
}
